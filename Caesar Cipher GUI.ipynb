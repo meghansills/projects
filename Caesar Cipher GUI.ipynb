{
 "cells": [
  {
   "cell_type": "code",
   "execution_count": 1,
   "metadata": {},
   "outputs": [],
   "source": [
    "from tkinter import *\n",
    "import tkinter\n",
    "import tkinter.messagebox\n",
    "import pyperclip\n",
    "\n",
    "def process():\n",
    "    \n",
    "    message=Entry.get(E1)\n",
    "    key=int(Entry.get(E2))\n",
    "    mode=Entry.get(E3)\n",
    "    SYMBOLS = 'ABCDEFGHIJKLMNOPQRSTUVWXYZabcdefghijklmnopqrstuvwxyz1234567890 !?.`~@#$%^&*()_+-=[]{}|;:<>,/'\n",
    "    translated= Entry.get(E5)\n",
    "\n",
    "    for symbol in message:\n",
    "        # Note: Only symbols in the SYMBOLS string can be encrypted/decrypted.\n",
    "        if symbol in SYMBOLS:\n",
    "            symbolIndex = SYMBOLS.find(symbol)\n",
    "        \n",
    "            # Perform encryption/decryption\n",
    "            if mode == 'Encrypt':\n",
    "                translatedIndex = symbolIndex + key\n",
    "            elif mode == 'Decrypt':\n",
    "                translatedIndex = symbolIndex - key\n",
    "        \n",
    "            # Handle wraparound, if needed:\n",
    "            if translatedIndex >= len(SYMBOLS):\n",
    "                translatedIndex = translatedIndex - len(SYMBOLS)\n",
    "            elif translatedIndex < 0:\n",
    "                translatedIndex = translatedIndex + len(SYMBOLS)\n",
    "            \n",
    "            translated = translated + SYMBOLS[translatedIndex]\n",
    "        else:\n",
    "            # Append the symbol without encrypting/decrypting:\n",
    "            translated = translated + symbol\n",
    "        \n",
    "    # Output the translated string:\n",
    "    Entry.insert(E5,0,translated)\n",
    "    pyperclip.copy(translated)\n",
    "    \n",
    "top = tkinter.Tk()\n",
    "top.title(\"Caesar Cipher GUI\")\n",
    "L1 = Label(top, text=\"Caesar Cipher\",).grid(row=0,column=1)\n",
    "L2 = Label(top, text=\"Message\",).grid(row=1,column=0)\n",
    "L3 = Label(top, text=\"Key (#)\",).grid(row=2,column=0)\n",
    "L4 = Label(top, text=\"Encrypt or Decrypt?\",).grid(row=3,column=0)\n",
    "L5 = Label(top, text=\"Translated\",).grid(row=5,column=0)\n",
    "E1 = Entry(top, bd=5)\n",
    "E1.grid(row=1,column=1)\n",
    "E2 = Entry(top, bd=5)\n",
    "E2.grid(row=2,column=1)\n",
    "E3 = Entry(top, bd=5)\n",
    "E3.grid(row=3,column=1)\n",
    "E5 = Entry(top, bd=5)\n",
    "E5.grid(row=5, column=1)\n",
    "B=Button(top, text=\"Submit\",command=process).grid(row=6,column=1,)\n",
    "\n",
    "top.mainloop()"
   ]
  },
  {
   "cell_type": "code",
   "execution_count": null,
   "metadata": {},
   "outputs": [],
   "source": []
  }
 ],
 "metadata": {
  "kernelspec": {
   "display_name": "Python 3",
   "language": "python",
   "name": "python3"
  },
  "language_info": {
   "codemirror_mode": {
    "name": "ipython",
    "version": 3
   },
   "file_extension": ".py",
   "mimetype": "text/x-python",
   "name": "python",
   "nbconvert_exporter": "python",
   "pygments_lexer": "ipython3",
   "version": "3.7.3"
  }
 },
 "nbformat": 4,
 "nbformat_minor": 4
}
